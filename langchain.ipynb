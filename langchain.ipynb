{
 "cells": [
  {
   "cell_type": "code",
   "execution_count": 6,
   "id": "e22b0766-5e98-4ecf-9da6-ab3f9fee7ce7",
   "metadata": {
    "scrolled": true
   },
   "outputs": [
    {
     "name": "stdout",
     "output_type": "stream",
     "text": [
      "Requirement already satisfied: langchain in /Users/scottsullivan/.local/share/virtualenvs/ml-llm-llama2-TWEVicOf-python/lib/python3.10/site-packages (0.0.268)\n",
      "Requirement already satisfied: openai in /Users/scottsullivan/.local/share/virtualenvs/ml-llm-llama2-TWEVicOf-python/lib/python3.10/site-packages (0.27.8)\n",
      "Requirement already satisfied: chromadb in /Users/scottsullivan/.local/share/virtualenvs/ml-llm-llama2-TWEVicOf-python/lib/python3.10/site-packages (0.4.6)\n",
      "Requirement already satisfied: tiktoken in /Users/scottsullivan/.local/share/virtualenvs/ml-llm-llama2-TWEVicOf-python/lib/python3.10/site-packages (0.4.0)\n",
      "Requirement already satisfied: PyYAML>=5.3 in /Users/scottsullivan/.local/share/virtualenvs/ml-llm-llama2-TWEVicOf-python/lib/python3.10/site-packages (from langchain) (6.0.1)\n",
      "Requirement already satisfied: SQLAlchemy<3,>=1.4 in /Users/scottsullivan/.local/share/virtualenvs/ml-llm-llama2-TWEVicOf-python/lib/python3.10/site-packages (from langchain) (2.0.20)\n",
      "Requirement already satisfied: aiohttp<4.0.0,>=3.8.3 in /Users/scottsullivan/.local/share/virtualenvs/ml-llm-llama2-TWEVicOf-python/lib/python3.10/site-packages (from langchain) (3.8.5)\n",
      "Requirement already satisfied: async-timeout<5.0.0,>=4.0.0 in /Users/scottsullivan/.local/share/virtualenvs/ml-llm-llama2-TWEVicOf-python/lib/python3.10/site-packages (from langchain) (4.0.3)\n",
      "Requirement already satisfied: dataclasses-json<0.6.0,>=0.5.7 in /Users/scottsullivan/.local/share/virtualenvs/ml-llm-llama2-TWEVicOf-python/lib/python3.10/site-packages (from langchain) (0.5.14)\n",
      "Requirement already satisfied: langsmith<0.1.0,>=0.0.21 in /Users/scottsullivan/.local/share/virtualenvs/ml-llm-llama2-TWEVicOf-python/lib/python3.10/site-packages (from langchain) (0.0.25)\n",
      "Requirement already satisfied: numexpr<3.0.0,>=2.8.4 in /Users/scottsullivan/.local/share/virtualenvs/ml-llm-llama2-TWEVicOf-python/lib/python3.10/site-packages (from langchain) (2.8.5)\n",
      "Requirement already satisfied: numpy<2,>=1 in /Users/scottsullivan/.local/share/virtualenvs/ml-llm-llama2-TWEVicOf-python/lib/python3.10/site-packages (from langchain) (1.25.2)\n",
      "Requirement already satisfied: pydantic<3,>=1 in /Users/scottsullivan/.local/share/virtualenvs/ml-llm-llama2-TWEVicOf-python/lib/python3.10/site-packages (from langchain) (1.10.12)\n",
      "Requirement already satisfied: requests<3,>=2 in /Users/scottsullivan/.local/share/virtualenvs/ml-llm-llama2-TWEVicOf-python/lib/python3.10/site-packages (from langchain) (2.31.0)\n",
      "Requirement already satisfied: tenacity<9.0.0,>=8.1.0 in /Users/scottsullivan/.local/share/virtualenvs/ml-llm-llama2-TWEVicOf-python/lib/python3.10/site-packages (from langchain) (8.2.3)\n",
      "Requirement already satisfied: tqdm in /Users/scottsullivan/.local/share/virtualenvs/ml-llm-llama2-TWEVicOf-python/lib/python3.10/site-packages (from openai) (4.66.1)\n",
      "Requirement already satisfied: chroma-hnswlib==0.7.2 in /Users/scottsullivan/.local/share/virtualenvs/ml-llm-llama2-TWEVicOf-python/lib/python3.10/site-packages (from chromadb) (0.7.2)\n",
      "Requirement already satisfied: fastapi<0.100.0,>=0.95.2 in /Users/scottsullivan/.local/share/virtualenvs/ml-llm-llama2-TWEVicOf-python/lib/python3.10/site-packages (from chromadb) (0.99.1)\n",
      "Requirement already satisfied: uvicorn[standard]>=0.18.3 in /Users/scottsullivan/.local/share/virtualenvs/ml-llm-llama2-TWEVicOf-python/lib/python3.10/site-packages (from chromadb) (0.23.2)\n",
      "Requirement already satisfied: posthog>=2.4.0 in /Users/scottsullivan/.local/share/virtualenvs/ml-llm-llama2-TWEVicOf-python/lib/python3.10/site-packages (from chromadb) (3.0.2)\n",
      "Requirement already satisfied: typing-extensions>=4.5.0 in /Users/scottsullivan/.local/share/virtualenvs/ml-llm-llama2-TWEVicOf-python/lib/python3.10/site-packages (from chromadb) (4.7.1)\n",
      "Requirement already satisfied: pulsar-client>=3.1.0 in /Users/scottsullivan/.local/share/virtualenvs/ml-llm-llama2-TWEVicOf-python/lib/python3.10/site-packages (from chromadb) (3.2.0)\n",
      "Requirement already satisfied: onnxruntime>=1.14.1 in /Users/scottsullivan/.local/share/virtualenvs/ml-llm-llama2-TWEVicOf-python/lib/python3.10/site-packages (from chromadb) (1.15.1)\n",
      "Requirement already satisfied: tokenizers>=0.13.2 in /Users/scottsullivan/.local/share/virtualenvs/ml-llm-llama2-TWEVicOf-python/lib/python3.10/site-packages (from chromadb) (0.13.3)\n",
      "Requirement already satisfied: pypika>=0.48.9 in /Users/scottsullivan/.local/share/virtualenvs/ml-llm-llama2-TWEVicOf-python/lib/python3.10/site-packages (from chromadb) (0.48.9)\n",
      "Requirement already satisfied: overrides>=7.3.1 in /Users/scottsullivan/.local/share/virtualenvs/ml-llm-llama2-TWEVicOf-python/lib/python3.10/site-packages (from chromadb) (7.4.0)\n",
      "Requirement already satisfied: importlib-resources in /Users/scottsullivan/.local/share/virtualenvs/ml-llm-llama2-TWEVicOf-python/lib/python3.10/site-packages (from chromadb) (6.0.1)\n",
      "Requirement already satisfied: regex>=2022.1.18 in /Users/scottsullivan/.local/share/virtualenvs/ml-llm-llama2-TWEVicOf-python/lib/python3.10/site-packages (from tiktoken) (2023.8.8)\n",
      "Requirement already satisfied: attrs>=17.3.0 in /Users/scottsullivan/.local/share/virtualenvs/ml-llm-llama2-TWEVicOf-python/lib/python3.10/site-packages (from aiohttp<4.0.0,>=3.8.3->langchain) (23.1.0)\n",
      "Requirement already satisfied: charset-normalizer<4.0,>=2.0 in /Users/scottsullivan/.local/share/virtualenvs/ml-llm-llama2-TWEVicOf-python/lib/python3.10/site-packages (from aiohttp<4.0.0,>=3.8.3->langchain) (3.2.0)\n",
      "Requirement already satisfied: multidict<7.0,>=4.5 in /Users/scottsullivan/.local/share/virtualenvs/ml-llm-llama2-TWEVicOf-python/lib/python3.10/site-packages (from aiohttp<4.0.0,>=3.8.3->langchain) (6.0.4)\n",
      "Requirement already satisfied: yarl<2.0,>=1.0 in /Users/scottsullivan/.local/share/virtualenvs/ml-llm-llama2-TWEVicOf-python/lib/python3.10/site-packages (from aiohttp<4.0.0,>=3.8.3->langchain) (1.9.2)\n",
      "Requirement already satisfied: frozenlist>=1.1.1 in /Users/scottsullivan/.local/share/virtualenvs/ml-llm-llama2-TWEVicOf-python/lib/python3.10/site-packages (from aiohttp<4.0.0,>=3.8.3->langchain) (1.4.0)\n",
      "Requirement already satisfied: aiosignal>=1.1.2 in /Users/scottsullivan/.local/share/virtualenvs/ml-llm-llama2-TWEVicOf-python/lib/python3.10/site-packages (from aiohttp<4.0.0,>=3.8.3->langchain) (1.3.1)\n",
      "Requirement already satisfied: marshmallow<4.0.0,>=3.18.0 in /Users/scottsullivan/.local/share/virtualenvs/ml-llm-llama2-TWEVicOf-python/lib/python3.10/site-packages (from dataclasses-json<0.6.0,>=0.5.7->langchain) (3.20.1)\n",
      "Requirement already satisfied: typing-inspect<1,>=0.4.0 in /Users/scottsullivan/.local/share/virtualenvs/ml-llm-llama2-TWEVicOf-python/lib/python3.10/site-packages (from dataclasses-json<0.6.0,>=0.5.7->langchain) (0.9.0)\n",
      "Requirement already satisfied: starlette<0.28.0,>=0.27.0 in /Users/scottsullivan/.local/share/virtualenvs/ml-llm-llama2-TWEVicOf-python/lib/python3.10/site-packages (from fastapi<0.100.0,>=0.95.2->chromadb) (0.27.0)\n",
      "Requirement already satisfied: coloredlogs in /Users/scottsullivan/.local/share/virtualenvs/ml-llm-llama2-TWEVicOf-python/lib/python3.10/site-packages (from onnxruntime>=1.14.1->chromadb) (15.0.1)\n",
      "Requirement already satisfied: flatbuffers in /Users/scottsullivan/.local/share/virtualenvs/ml-llm-llama2-TWEVicOf-python/lib/python3.10/site-packages (from onnxruntime>=1.14.1->chromadb) (23.5.26)\n",
      "Requirement already satisfied: packaging in /Users/scottsullivan/.local/share/virtualenvs/ml-llm-llama2-TWEVicOf-python/lib/python3.10/site-packages (from onnxruntime>=1.14.1->chromadb) (23.1)\n",
      "Requirement already satisfied: protobuf in /Users/scottsullivan/.local/share/virtualenvs/ml-llm-llama2-TWEVicOf-python/lib/python3.10/site-packages (from onnxruntime>=1.14.1->chromadb) (4.24.1)\n",
      "Requirement already satisfied: sympy in /Users/scottsullivan/.local/share/virtualenvs/ml-llm-llama2-TWEVicOf-python/lib/python3.10/site-packages (from onnxruntime>=1.14.1->chromadb) (1.12)\n",
      "Requirement already satisfied: six>=1.5 in /Users/scottsullivan/.local/share/virtualenvs/ml-llm-llama2-TWEVicOf-python/lib/python3.10/site-packages (from posthog>=2.4.0->chromadb) (1.16.0)\n",
      "Requirement already satisfied: monotonic>=1.5 in /Users/scottsullivan/.local/share/virtualenvs/ml-llm-llama2-TWEVicOf-python/lib/python3.10/site-packages (from posthog>=2.4.0->chromadb) (1.6)\n",
      "Requirement already satisfied: backoff>=1.10.0 in /Users/scottsullivan/.local/share/virtualenvs/ml-llm-llama2-TWEVicOf-python/lib/python3.10/site-packages (from posthog>=2.4.0->chromadb) (2.2.1)\n",
      "Requirement already satisfied: python-dateutil>2.1 in /Users/scottsullivan/.local/share/virtualenvs/ml-llm-llama2-TWEVicOf-python/lib/python3.10/site-packages (from posthog>=2.4.0->chromadb) (2.8.2)\n",
      "Requirement already satisfied: certifi in /Users/scottsullivan/.local/share/virtualenvs/ml-llm-llama2-TWEVicOf-python/lib/python3.10/site-packages (from pulsar-client>=3.1.0->chromadb) (2023.7.22)\n",
      "Requirement already satisfied: idna<4,>=2.5 in /Users/scottsullivan/.local/share/virtualenvs/ml-llm-llama2-TWEVicOf-python/lib/python3.10/site-packages (from requests<3,>=2->langchain) (3.4)\n",
      "Requirement already satisfied: urllib3<3,>=1.21.1 in /Users/scottsullivan/.local/share/virtualenvs/ml-llm-llama2-TWEVicOf-python/lib/python3.10/site-packages (from requests<3,>=2->langchain) (2.0.4)\n",
      "Requirement already satisfied: greenlet!=0.4.17 in /Users/scottsullivan/.local/share/virtualenvs/ml-llm-llama2-TWEVicOf-python/lib/python3.10/site-packages (from SQLAlchemy<3,>=1.4->langchain) (2.0.2)\n",
      "Requirement already satisfied: click>=7.0 in /Users/scottsullivan/.local/share/virtualenvs/ml-llm-llama2-TWEVicOf-python/lib/python3.10/site-packages (from uvicorn[standard]>=0.18.3->chromadb) (8.1.7)\n",
      "Requirement already satisfied: h11>=0.8 in /Users/scottsullivan/.local/share/virtualenvs/ml-llm-llama2-TWEVicOf-python/lib/python3.10/site-packages (from uvicorn[standard]>=0.18.3->chromadb) (0.14.0)\n",
      "Requirement already satisfied: httptools>=0.5.0 in /Users/scottsullivan/.local/share/virtualenvs/ml-llm-llama2-TWEVicOf-python/lib/python3.10/site-packages (from uvicorn[standard]>=0.18.3->chromadb) (0.6.0)\n",
      "Requirement already satisfied: python-dotenv>=0.13 in /Users/scottsullivan/.local/share/virtualenvs/ml-llm-llama2-TWEVicOf-python/lib/python3.10/site-packages (from uvicorn[standard]>=0.18.3->chromadb) (1.0.0)\n",
      "Requirement already satisfied: uvloop!=0.15.0,!=0.15.1,>=0.14.0 in /Users/scottsullivan/.local/share/virtualenvs/ml-llm-llama2-TWEVicOf-python/lib/python3.10/site-packages (from uvicorn[standard]>=0.18.3->chromadb) (0.17.0)\n",
      "Requirement already satisfied: watchfiles>=0.13 in /Users/scottsullivan/.local/share/virtualenvs/ml-llm-llama2-TWEVicOf-python/lib/python3.10/site-packages (from uvicorn[standard]>=0.18.3->chromadb) (0.19.0)\n",
      "Requirement already satisfied: websockets>=10.4 in /Users/scottsullivan/.local/share/virtualenvs/ml-llm-llama2-TWEVicOf-python/lib/python3.10/site-packages (from uvicorn[standard]>=0.18.3->chromadb) (11.0.3)\n",
      "Requirement already satisfied: anyio<5,>=3.4.0 in /Users/scottsullivan/.local/share/virtualenvs/ml-llm-llama2-TWEVicOf-python/lib/python3.10/site-packages (from starlette<0.28.0,>=0.27.0->fastapi<0.100.0,>=0.95.2->chromadb) (3.7.1)\n",
      "Requirement already satisfied: mypy-extensions>=0.3.0 in /Users/scottsullivan/.local/share/virtualenvs/ml-llm-llama2-TWEVicOf-python/lib/python3.10/site-packages (from typing-inspect<1,>=0.4.0->dataclasses-json<0.6.0,>=0.5.7->langchain) (1.0.0)\n",
      "Requirement already satisfied: humanfriendly>=9.1 in /Users/scottsullivan/.local/share/virtualenvs/ml-llm-llama2-TWEVicOf-python/lib/python3.10/site-packages (from coloredlogs->onnxruntime>=1.14.1->chromadb) (10.0)\n",
      "Requirement already satisfied: mpmath>=0.19 in /Users/scottsullivan/.local/share/virtualenvs/ml-llm-llama2-TWEVicOf-python/lib/python3.10/site-packages (from sympy->onnxruntime>=1.14.1->chromadb) (1.3.0)\n",
      "Requirement already satisfied: sniffio>=1.1 in /Users/scottsullivan/.local/share/virtualenvs/ml-llm-llama2-TWEVicOf-python/lib/python3.10/site-packages (from anyio<5,>=3.4.0->starlette<0.28.0,>=0.27.0->fastapi<0.100.0,>=0.95.2->chromadb) (1.3.0)\n",
      "Requirement already satisfied: exceptiongroup in /Users/scottsullivan/.local/share/virtualenvs/ml-llm-llama2-TWEVicOf-python/lib/python3.10/site-packages (from anyio<5,>=3.4.0->starlette<0.28.0,>=0.27.0->fastapi<0.100.0,>=0.95.2->chromadb) (1.1.3)\n"
     ]
    }
   ],
   "source": [
    "!pip install langchain openai chromadb tiktoken"
   ]
  },
  {
   "cell_type": "code",
   "execution_count": 36,
   "id": "a7841c7e-8a7c-4fb9-b234-75923a752689",
   "metadata": {},
   "outputs": [
    {
     "data": {
      "text/plain": [
       "<module 'api' from '/Users/scottsullivan/Documents/myCoding/ml-llm-llama2/_private/api.py'>"
      ]
     },
     "execution_count": 36,
     "metadata": {},
     "output_type": "execute_result"
    }
   ],
   "source": [
    "import os\n",
    "import sys\n",
    "sys.path.append('_private/')\n",
    "from api import PRIVATE_KEY\n",
    "from importlib import reload\n",
    "reload(api)"
   ]
  },
  {
   "cell_type": "code",
   "execution_count": 37,
   "id": "4b6b48cc-f856-4d13-9169-d554ed70f570",
   "metadata": {},
   "outputs": [],
   "source": [
    "os.environ['OPENAI_API_KEY'] = PRIVATE_KEY"
   ]
  },
  {
   "cell_type": "code",
   "execution_count": 38,
   "id": "58de0b89-fc83-45e3-bb8b-f475c27f5252",
   "metadata": {},
   "outputs": [],
   "source": [
    "from langchain.agents import create_pandas_dataframe_agent\n",
    "from langchain.llms import OpenAI\n",
    "import pandas as pd"
   ]
  },
  {
   "cell_type": "code",
   "execution_count": 39,
   "id": "b341fd23-f62a-4008-b129-32979a378e57",
   "metadata": {},
   "outputs": [],
   "source": [
    "df = pd.read_csv('_data/train.csv')"
   ]
  },
  {
   "cell_type": "code",
   "execution_count": 40,
   "id": "cc2630e5-04e6-4e83-b3e8-2e5fd3d7fc83",
   "metadata": {},
   "outputs": [],
   "source": [
    "agent = create_pandas_dataframe_agent(OpenAI(temperature=0), df, verbose=True)"
   ]
  },
  {
   "cell_type": "code",
   "execution_count": 41,
   "id": "c11c48a4-28ac-4a59-9105-19107c63e580",
   "metadata": {},
   "outputs": [
    {
     "name": "stdout",
     "output_type": "stream",
     "text": [
      "\n",
      "\n",
      "\u001b[1m> Entering new AgentExecutor chain...\u001b[0m\n",
      "\u001b[32;1m\u001b[1;3mThought: I need to find out what columns are in the dataframe\n",
      "Action: python_repl_ast\n",
      "Action Input: df.columns\u001b[0m\n",
      "Observation: \u001b[36;1m\u001b[1;3mIndex(['PassengerId', 'HomePlanet', 'CryoSleep', 'Cabin', 'Destination', 'Age',\n",
      "       'VIP', 'RoomService', 'FoodCourt', 'ShoppingMall', 'Spa', 'VRDeck',\n",
      "       'Name', 'Transported'],\n",
      "      dtype='object')\u001b[0m\n",
      "Thought:\u001b[32;1m\u001b[1;3m I now know the final answer\n",
      "Final Answer: The columns available in the dataframe are 'PassengerId', 'HomePlanet', 'CryoSleep', 'Cabin', 'Destination', 'Age', 'VIP', 'RoomService', 'FoodCourt', 'ShoppingMall', 'Spa', 'VRDeck', 'Name', and 'Transported'.\u001b[0m\n",
      "\n",
      "\u001b[1m> Finished chain.\u001b[0m\n"
     ]
    },
    {
     "data": {
      "text/plain": [
       "\"The columns available in the dataframe are 'PassengerId', 'HomePlanet', 'CryoSleep', 'Cabin', 'Destination', 'Age', 'VIP', 'RoomService', 'FoodCourt', 'ShoppingMall', 'Spa', 'VRDeck', 'Name', and 'Transported'.\""
      ]
     },
     "execution_count": 41,
     "metadata": {},
     "output_type": "execute_result"
    }
   ],
   "source": [
    "agent.run('what columns are available in the dataframe?')"
   ]
  },
  {
   "cell_type": "code",
   "execution_count": null,
   "id": "4e9013dd-ff7d-4410-a761-78209f5a6179",
   "metadata": {},
   "outputs": [],
   "source": []
  },
  {
   "cell_type": "code",
   "execution_count": null,
   "id": "d2bb03d5-1087-4783-9ec1-d73671884d91",
   "metadata": {},
   "outputs": [],
   "source": []
  }
 ],
 "metadata": {
  "kernelspec": {
   "display_name": "Python 3 (ipykernel)",
   "language": "python",
   "name": "python3"
  },
  "language_info": {
   "codemirror_mode": {
    "name": "ipython",
    "version": 3
   },
   "file_extension": ".py",
   "mimetype": "text/x-python",
   "name": "python",
   "nbconvert_exporter": "python",
   "pygments_lexer": "ipython3",
   "version": "3.10.6"
  }
 },
 "nbformat": 4,
 "nbformat_minor": 5
}
