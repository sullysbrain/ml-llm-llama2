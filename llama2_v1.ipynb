{
 "cells": [
  {
   "cell_type": "markdown",
   "id": "1404cf78-e5ca-41cc-8c52-b8844f1f22a3",
   "metadata": {},
   "source": [
    "## Llama 2 Exploration on AWS"
   ]
  },
  {
   "cell_type": "code",
   "execution_count": null,
   "id": "77c9c3af-c5e7-44cc-9ed9-03c988652a88",
   "metadata": {},
   "outputs": [],
   "source": []
  },
  {
   "cell_type": "code",
   "execution_count": null,
   "id": "7012ed60-e961-429f-be38-a666922270f4",
   "metadata": {},
   "outputs": [],
   "source": []
  },
  {
   "cell_type": "code",
   "execution_count": null,
   "id": "36ca3147-234d-4237-94ed-0a78cc1c4f3f",
   "metadata": {},
   "outputs": [],
   "source": []
  }
 ],
 "metadata": {
  "kernelspec": {
   "display_name": "Python 3 (ipykernel)",
   "language": "python",
   "name": "python3"
  },
  "language_info": {
   "codemirror_mode": {
    "name": "ipython",
    "version": 3
   },
   "file_extension": ".py",
   "mimetype": "text/x-python",
   "name": "python",
   "nbconvert_exporter": "python",
   "pygments_lexer": "ipython3",
   "version": "3.10.6"
  }
 },
 "nbformat": 4,
 "nbformat_minor": 5
}
